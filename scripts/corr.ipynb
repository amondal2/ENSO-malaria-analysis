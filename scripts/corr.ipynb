{
 "cells": [
  {
   "cell_type": "code",
   "execution_count": 37,
   "metadata": {},
   "outputs": [
    {
     "name": "stderr",
     "output_type": "stream",
     "text": [
      "/Users/agastyamondal/opt/anaconda3/lib/python3.7/site-packages/ipykernel_launcher.py:21: SettingWithCopyWarning: \n",
      "A value is trying to be set on a copy of a slice from a DataFrame.\n",
      "Try using .loc[row_indexer,col_indexer] = value instead\n",
      "\n",
      "See the caveats in the documentation: https://pandas.pydata.org/pandas-docs/stable/user_guide/indexing.html#returning-a-view-versus-a-copy\n"
     ]
    }
   ],
   "source": [
    "# Notebook to explore different correlation metrics between ENSO indices and incidence time series\n",
    "# Using methods from: https://towardsdatascience.com/four-ways-to-quantify-synchrony-between-time-series-data-b99136c4a9c9\n",
    "\n",
    "# Load libraries and extract data \n",
    "\n",
    "# libraries\n",
    "import numpy as np\n",
    "import pandas as pd\n",
    "import matplotlib.pyplot as plt\n",
    "import seaborn as sns\n",
    "\n",
    "# load data\n",
    "country_data = pd.read_csv('~/ENSO-malaria-analysis/data/country_info.csv')\n",
    "oceanic_nino_index_data = pd.read_csv('~/ENSO-malaria-analysis/data/oni_ts.csv')\n",
    "pf_incidence_data = pd.read_csv('~/ENSO-malaria-analysis/data/PFIncidence_global_admin1.csv')\n",
    "pf_incidence_data.Year = pd.to_datetime(pf_incidence_data.Year,format=\"%Y\")\n",
    "# extract ISO codes for African countries\n",
    "country_data_africa = country_data.loc[country_data['region'] == 'Africa']\n",
    "\n",
    "# Northern Africa sub-regions not filled in for some reason\n",
    "country_data_africa['intermediate-region'] = country_data_africa['intermediate-region'].fillna('Northern Africa')\n",
    "iso_africa = country_data_africa['alpha-3'].unique()\n",
    "\n",
    "# extract incidence data for African countries\n",
    "africa_incidence_data = pf_incidence_data.loc[pf_incidence_data['ISO'].isin(iso_africa)]\n",
    "\n",
    "# group by country-level means\n",
    "years = africa_incidence_data.Year.unique()\n",
    "africa_incidence_data = africa_incidence_data.groupby(['ISO', 'Name_0', 'Year'], as_index=False)['incidence_rate_rmean'].mean()\n",
    "\n",
    "# Oceanic Nino Index\n",
    "\n",
    "# plot Oceanic Nino Index - mean and max values\n",
    "oni_yearly_means = oceanic_nino_index_data.groupby('YR', as_index=False)['ANOM'].mean()\n",
    "oni_yearly_means.columns = ['Year', 'ONI Anomaly (Mean)']\n",
    "\n",
    "oni_yearly_max = oceanic_nino_index_data.groupby('YR', as_index=False)['ANOM'].max()\n",
    "oni_yearly_max.columns = ['Year', 'ONI Anomaly (Max)']\n",
    "oni_yearly = pd.concat([oni_yearly_means.Year, oni_yearly_means['ONI Anomaly (Mean)'], oni_yearly_max['ONI Anomaly (Max)']], axis=1)\n",
    "oni_yearly = oni_yearly.melt('Year', var_name='cols', value_name='vals')\n",
    "oni_yearly = oni_yearly[oni_yearly.Year >= 2000]\n"
   ]
  },
  {
   "cell_type": "code",
   "execution_count": 40,
   "metadata": {},
   "outputs": [],
   "source": [
    "# let's use Mean values for now...\n",
    "\n",
    "oni_yearly_means = oni_yearly_means[oni_yearly_means.Year.between(2000,2020)]\n",
    "oni_mean_values = oni_yearly_means['ONI Anomaly (Mean)']"
   ]
  },
  {
   "cell_type": "code",
   "execution_count": 56,
   "metadata": {},
   "outputs": [
    {
     "name": "stdout",
     "output_type": "stream",
     "text": [
      "[nan, nan, nan, nan, nan, nan]\n",
      "[nan, nan, nan, nan, nan, nan]\n",
      "[0.1821561894580574, 0.38645966407833665, 0.07744420078885601, -0.4752059141075736, -0.6971973698831753, -0.6554526086715895]\n",
      "[0.3984920654912021, 0.5065944775490329, 0.43472240983198535, 0.2205520775376448, 0.008902328559802577, -0.30578650697564197]\n",
      "[nan, nan, nan, nan, nan, nan]\n",
      "[nan, nan, nan, nan, nan, nan]\n",
      "[nan, nan, nan, nan, nan, nan]\n",
      "[nan, nan, nan, nan, nan, nan]\n",
      "[nan, nan, nan, nan, nan, nan]\n",
      "[nan, nan, nan, nan, nan, nan]\n",
      "[nan, nan, nan, nan, nan, nan]\n",
      "[nan, nan, nan, nan, nan, nan]\n",
      "[nan, nan, nan, nan, nan, nan]\n",
      "[nan, nan, nan, nan, nan, nan]\n",
      "[nan, nan, nan, nan, nan, nan]\n",
      "[nan, nan, nan, nan, nan, nan]\n",
      "[nan, nan, nan, nan, nan, nan]\n",
      "[nan, nan, nan, nan, nan, nan]\n",
      "[nan, nan, nan, nan, nan, nan]\n",
      "[nan, nan, nan, nan, nan, nan]\n",
      "[nan, nan, nan, nan, nan, nan]\n",
      "[nan, nan, nan, nan, nan, nan]\n",
      "[nan, nan, nan, nan, nan, nan]\n",
      "[nan, nan, nan, nan, nan, nan]\n",
      "[nan, nan, nan, nan, nan, nan]\n",
      "[nan, nan, nan, nan, nan, nan]\n",
      "[nan, nan, nan, nan, nan, nan]\n",
      "[nan, nan, nan, nan, nan, nan]\n",
      "[nan, nan, nan, nan, nan, nan]\n",
      "[nan, nan, nan, nan, nan, nan]\n",
      "[nan, nan, nan, nan, nan, nan]\n",
      "[nan, nan, nan, nan, nan, nan]\n",
      "[nan, nan, nan, nan, nan, nan]\n",
      "[nan, nan, nan, nan, nan, nan]\n",
      "[nan, nan, nan, nan, nan, nan]\n",
      "[nan, nan, nan, nan, nan, nan]\n",
      "[nan, nan, nan, nan, nan, nan]\n",
      "[nan, nan, nan, nan, nan, nan]\n",
      "[nan, nan, nan, nan, nan, nan]\n",
      "[nan, nan, nan, nan, nan, nan]\n",
      "[nan, nan, nan, nan, nan, nan]\n",
      "[nan, nan, nan, nan, nan, nan]\n",
      "[nan, nan, nan, nan, nan, nan]\n",
      "[nan, nan, nan, nan, nan, nan]\n",
      "[nan, nan, nan, nan, nan, nan]\n",
      "[nan, nan, nan, nan, nan, nan]\n",
      "[nan, nan, nan, nan, nan, nan]\n",
      "[nan, nan, nan, nan, nan, nan]\n",
      "[nan, nan, nan, nan, nan, nan]\n"
     ]
    }
   ],
   "source": [
    "# 1. Time-lagged cross correlation / Granger's causality \n",
    "# We will try a bunch of different lagged correlations between the ENSO indices and the malaria incidence time series to see which lag yields the greatest\n",
    "# correlaton value \n",
    "\n",
    "def crosscorr(datax, datay, lag=0, wrap=False):\n",
    "    \"\"\" Lag-N cross correlation. \n",
    "    Shifted data filled with NaNs \n",
    "    \n",
    "    Parameters\n",
    "    ----------\n",
    "    lag : int, default 0\n",
    "    datax, datay : pandas.Series objects of equal length\n",
    "    Returns\n",
    "    ----------\n",
    "    crosscorr : float\n",
    "    \"\"\"\n",
    "    if wrap:\n",
    "        shiftedy = datay.shift(lag)\n",
    "        shiftedy.iloc[:lag] = datay.iloc[-lag:].values\n",
    "        return datax.corr(shiftedy)\n",
    "    else: \n",
    "        return datax.corr(datay.shift(lag))\n",
    "    \n",
    "\n",
    "# get countries\n",
    "countries = africa_incidence_data['Name_0'].unique()\n",
    "for country in countries:\n",
    "    incidence_data = africa_incidence_data[africa_incidence_data['Name_0'] == country]['incidence_rate_rmean']\n",
    "    rs = [crosscorr(incidence_data,oni_mean_values, lag) for lag in range(-3,3)]\n",
    "    print(rs)\n"
   ]
  },
  {
   "cell_type": "code",
   "execution_count": null,
   "metadata": {},
   "outputs": [],
   "source": []
  }
 ],
 "metadata": {
  "kernelspec": {
   "display_name": "Python 3",
   "language": "python",
   "name": "python3"
  },
  "language_info": {
   "codemirror_mode": {
    "name": "ipython",
    "version": 3
   },
   "file_extension": ".py",
   "mimetype": "text/x-python",
   "name": "python",
   "nbconvert_exporter": "python",
   "pygments_lexer": "ipython3",
   "version": "3.7.6"
  }
 },
 "nbformat": 4,
 "nbformat_minor": 4
}
